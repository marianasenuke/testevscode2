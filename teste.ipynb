{
 "cells": [
  {
   "cell_type": "markdown",
   "metadata": {},
   "source": [
    "# Atividade 3"
   ]
  },
  {
   "cell_type": "markdown",
   "metadata": {},
   "source": [
    "1- 65 pontos: Considere um circulo de raio r=1 inscrito em um quadrado de lado 2r=2. A área do círculo é π.r^2=π  A área do quadrado é \n",
    "4.A razão entre a área do círculo e a área do quadrado é π/4.Se gerarmos N pontos aleatórios uniformemente distribuídos no quadrado, a fração de pontos que cairão dentro do círculo será π/4.Assim, podemos estimar π como 4 vezes a fração de pontos que caíram dentro do círculo. Como visto em aula, pode considerar o círculo e quadrados completos, ou apenas o primeiro quadrante. Varie o número de pontos sorteados N para ver como o resultado muda. Implemente na forma de uma função com assinatura:\n"
   ]
  },
  {
   "cell_type": "code",
   "execution_count": null,
   "metadata": {},
   "outputs": [],
   "source": [
    "import random\n",
    "\n",
    "def pi_monte_carlo(N):\n",
    "\n",
    "    dentro_circulo = 0\n",
    "\n",
    "    for _ in range(N):\n",
    "        x, y = random.uniform(-1, 1), random.uniform(-1, 1)  # Gera pontos no quadrado \n",
    "        if x**2 + y**2 <= 1:  # Verifica se o ponto está dentro do círculo de raio 1\n",
    "            dentro_circulo += 1\n",
    "\n",
    "    estimativa_pi = 4 * (dentro_circulo / N)  # Calcula a estimativa de pi\n",
    "    return estimativa_pi\n",
    "\n"
   ]
  },
  {
   "cell_type": "code",
   "execution_count": null,
   "metadata": {},
   "outputs": [],
   "source": []
  }
 ],
 "metadata": {
  "kernelspec": {
   "display_name": "Python 3",
   "language": "python",
   "name": "python3"
  },
  "language_info": {
   "codemirror_mode": {
    "name": "ipython",
    "version": 3
   },
   "file_extension": ".py",
   "mimetype": "text/x-python",
   "name": "python",
   "nbconvert_exporter": "python",
   "pygments_lexer": "ipython3",
   "version": "3.11.11"
  }
 },
 "nbformat": 4,
 "nbformat_minor": 2
}
